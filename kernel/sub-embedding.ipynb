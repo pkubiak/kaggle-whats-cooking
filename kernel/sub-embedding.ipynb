{
 "cells": [
  {
   "cell_type": "code",
   "execution_count": 4,
   "metadata": {},
   "outputs": [],
   "source": [
    "# Simple model, which train embedding for each ingredient and than perform simple softmax classification."
   ]
  },
  {
   "cell_type": "code",
   "execution_count": 1,
   "metadata": {},
   "outputs": [
    {
     "name": "stdout",
     "output_type": "stream",
     "text": [
      "6668\n",
      "37876\n"
     ]
    }
   ],
   "source": [
    "import json, re\n",
    "from collections import UserDict\n",
    "\n",
    "class BiDict(UserDict):\n",
    "    def __setitem__(self, key, value):\n",
    "        self.data[key] = value\n",
    "        self.data[value] = key\n",
    "    \n",
    "INGREDIENTS, CUISINES = BiDict(), BiDict()\n",
    "\n",
    "def normalize_name(name):\n",
    "    name = name.lower()\n",
    "    name = re.sub(\"['®™']\", ' ', name)\n",
    "    name = re.sub('\\(.+\\)', ' ', name)\n",
    "    if ',' in name:\n",
    "        name, *rest = name.split(',')\n",
    "    name = re.sub('\\s+', ' ', name)\n",
    "    \n",
    "    if not re.fullmatch('[- a-zèçîúéâ&0-9%.]+', name):\n",
    "        return None\n",
    "    return name\n",
    "\n",
    "records = []\n",
    "with open('../inputs/train.json') as file:\n",
    "    for record in json.load(file):\n",
    "        cuisine_id = CUISINES.setdefault(record['cuisine'], len(CUISINES)//2)\n",
    "        ingredients_ids = []\n",
    "        for ingredient in record['ingredients']:\n",
    "            ingredient = normalize_name(ingredient)\n",
    "            if ingredient is None:\n",
    "                continue\n",
    "            ingredients_ids.append(INGREDIENTS.setdefault(ingredient, len(INGREDIENTS)//2))\n",
    "        if len(ingredients_ids) < 5:\n",
    "            continue\n",
    "        records.append((cuisine_id, ingredients_ids))\n",
    "    \n",
    "print(len(INGREDIENTS)//2)\n",
    "print(len(records))\n"
   ]
  },
  {
   "cell_type": "code",
   "execution_count": 94,
   "metadata": {},
   "outputs": [
    {
     "name": "stdout",
     "output_type": "stream",
     "text": [
      "_________________________________________________________________\n",
      "Layer (type)                 Output Shape              Param #   \n",
      "=================================================================\n",
      "input_4 (InputLayer)         (None, 5)                 0         \n",
      "_________________________________________________________________\n",
      "embedding_3 (Embedding)      (None, 5, 16)             106688    \n",
      "_________________________________________________________________\n",
      "flatten_3 (Flatten)          (None, 80)                0         \n",
      "_________________________________________________________________\n",
      "dense_8 (Dense)              (None, 128)               10368     \n",
      "_________________________________________________________________\n",
      "dense_9 (Dense)              (None, 32)                4128      \n",
      "_________________________________________________________________\n",
      "dense_10 (Dense)             (None, 20)                660       \n",
      "=================================================================\n",
      "Total params: 121,844\n",
      "Trainable params: 121,844\n",
      "Non-trainable params: 0\n",
      "_________________________________________________________________\n"
     ]
    }
   ],
   "source": [
    "from keras.models import Model\n",
    "from keras.layers import Input, Dense, Embedding, MaxPooling1D, Reshape, AveragePooling1D, Flatten\n",
    "\n",
    "ingredients_count = 5\n",
    "emb_dim = 16\n",
    "output_classes = 20\n",
    "\n",
    "a = Input(shape=(ingredients_count,))\n",
    "emb = Embedding(len(INGREDIENTS)//2, emb_dim)(a)\n",
    "# b = AveragePooling1D(pool_size=(5,))(emb)\n",
    "# b = Reshape((-1,))(b)\n",
    "b = Flatten()(emb)\n",
    "# b = Dense(512, activation='tanh')(b)\n",
    "b = Dense(128, activation='tanh')(b)\n",
    "b = Dense(32, activation='relu')(b)\n",
    "d = Dense(output_classes, activation='softmax')(b)\n",
    "\n",
    "model = Model(inputs=a, outputs=d)\n",
    "model.summary()\n",
    "\n",
    "model.compile(optimizer='adam',\n",
    "              loss='categorical_crossentropy',\n",
    "              metrics=['accuracy'])\n",
    "\n",
    "\n",
    "    "
   ]
  },
  {
   "cell_type": "code",
   "execution_count": 98,
   "metadata": {
    "scrolled": false
   },
   "outputs": [
    {
     "name": "stdout",
     "output_type": "stream",
     "text": [
      "(array([[ 428,   11,  428,  473,   74],\n",
      "       [ 333,  333,    5,  553,  333],\n",
      "       [  35, 3265,    0, 2697,    0],\n",
      "       [1399,   22, 1539,   22,   29],\n",
      "       [ 190,   11,   78, 3815,  936]]), array([ 7,  6,  1, 15,  6]))\n",
      "\n",
      "Epoch 0\n",
      "0 6667\n",
      "(4194304, 20) (4194304, 5)\n",
      "[[ 35  29 272 569 247]\n",
      " [ 26  48  31  48  48]]\n",
      "Epoch 1/6\n",
      "4194304/4194304 [==============================] - 18s 4us/step - loss: 0.9261 - acc: 0.7035\n",
      "Epoch 2/6\n",
      "4194304/4194304 [==============================] - 15s 4us/step - loss: 0.9226 - acc: 0.7044\n",
      "Epoch 3/6\n",
      "4194304/4194304 [==============================] - 16s 4us/step - loss: 0.9207 - acc: 0.7050\n",
      "Epoch 4/6\n",
      "4194304/4194304 [==============================] - 17s 4us/step - loss: 0.9189 - acc: 0.7057\n",
      "Epoch 5/6\n",
      "4194304/4194304 [==============================] - 17s 4us/step - loss: 0.9174 - acc: 0.7061\n",
      "Epoch 6/6\n",
      "4194304/4194304 [==============================] - 20s 5us/step - loss: 0.9161 - acc: 0.7065\n"
     ]
    }
   ],
   "source": [
    "import random, keras\n",
    "import numpy as np\n",
    "\n",
    "def get_data(n):\n",
    "    inputs, outputs = [], []\n",
    "    for i in range(n):\n",
    "        cuisine, items = random.choice(records)\n",
    "        outputs.append(cuisine)\n",
    "        inputs.append(random.choices(items, k=5))\n",
    "        \n",
    "    return np.array(inputs), np.array(outputs)\n",
    "\n",
    "print(get_data(5))\n",
    "\n",
    "\n",
    "for i in range(1):\n",
    "    print()\n",
    "    print('Epoch', i)\n",
    "    inputs, outputs = get_data(2**22)\n",
    "    print(np.min(inputs), np.max(inputs))\n",
    "    one_hot_labels = keras.utils.to_categorical(outputs, num_classes=output_classes)\n",
    "    print(one_hot_labels.shape, inputs.shape)\n",
    "    print(inputs[:2])\n",
    "    \n",
    "    model.fit(inputs, one_hot_labels, epochs=6, batch_size=2**12)"
   ]
  },
  {
   "cell_type": "code",
   "execution_count": 105,
   "metadata": {},
   "outputs": [
    {
     "name": "stdout",
     "output_type": "stream",
     "text": [
      "romaine lettuce [-0.02433999 -0.03430429 -0.03900348  0.02107627 -0.05679919  0.00251089\n",
      "  0.25573447  0.11958748  0.00568643 -0.07599767  0.05266302 -0.08212987\n",
      " -0.07888602  0.06296729  0.13130403 -0.16749401]\n",
      "black olives [ 0.05833531  0.20802075 -0.02649278  0.01495509  0.02319011  0.36362135\n",
      "  0.10661475 -0.07031907  0.09286964  0.25268272  0.16960737 -0.27869174\n",
      "  0.01021353  0.06792857  0.08568624 -0.2821356 ]\n",
      "grape tomatoes [ 0.04108611  0.23511146  0.00785908 -0.09863762  0.01199139 -0.01205816\n",
      "  0.12953706  0.18824159  0.06517451  0.09783626  0.10026757 -0.06866472\n",
      "  0.00955472  0.0603825   0.15449007 -0.13152447]\n",
      "garlic [-0.05776003  0.00861575  0.03081557  0.00344534 -0.01694864 -0.03521422\n",
      "  0.02390609  0.02412274  0.00114252 -0.05636681 -0.02115255 -0.01009505\n",
      "  0.01225372 -0.02207812  0.04883666 -0.01791646]\n",
      "pepper [ 0.00508487  0.0111201  -0.01103911 -0.00264134 -0.01811264 -0.02535692\n",
      " -0.03065817 -0.00150996 -0.00507077 -0.04381677 -0.02165938 -0.03115971\n",
      " -0.01781926  0.00798582  0.03436581  0.0344168 ]\n",
      "purple onion [ 0.01164532 -0.00123699 -0.01939468  0.00322071  0.01757738  0.00924223\n",
      "  0.01204312 -0.0096023  -0.01271443  0.00924447  0.0012725  -0.09048207\n",
      "  0.01954344 -0.00246954  0.03828184 -0.03762572]\n",
      "seasoning [ 0.07358049 -0.04294694  0.04831023 -0.00857774 -0.04066777 -0.03764261\n",
      "  0.02565335  0.00083513 -0.01840124 -0.04792321 -0.04671932 -0.03512507\n",
      " -0.00851417  0.00915758 -0.03064558  0.02446455]\n",
      "garbanzo beans [ 0.0870816   0.30044544 -0.02545253  0.03820381 -0.05064318 -0.01917513\n",
      "  0.24311784  0.09264135  0.18418069  0.05395492  0.09956861 -0.29738566\n",
      "  0.16599852 -0.36268085  0.0657694  -0.03880972]\n",
      "feta cheese crumbles [-0.06093258  0.01924834  0.12238894 -0.3693728  -0.36058715  0.20142888\n",
      "  0.21064018 -0.16617279 -0.29077268 -0.09786099  0.17372535 -0.43592456\n",
      " -0.16731443 -0.12540556  0.10147591 -0.39501643]\n",
      "plain flour [ 0.0557689  -0.10543757  0.01099712  0.05351694 -0.16751702 -0.17344634\n",
      " -0.02149998 -0.09562835 -0.02822115  0.03248989 -0.02922956  0.05094944\n",
      "  0.01102827 -0.05399194  0.01300424  0.01971281]\n"
     ]
    }
   ],
   "source": [
    "# weights = emb.get_weights()[0]\n",
    "weights = model.layers[1].get_weights()[0]\n",
    "\n",
    "for i in range(10):\n",
    "    print(INGREDIENTS[i], weights[i])\n"
   ]
  },
  {
   "cell_type": "code",
   "execution_count": 107,
   "metadata": {},
   "outputs": [],
   "source": [
    "from collections import Counter\n",
    "\n",
    "test_records = []\n",
    "votes = 64\n",
    "with open('../inputs/test.json') as file, open('output.csv', 'w') as outputf:\n",
    "    for record in json.load(file):\n",
    "        ingredients_ids = []\n",
    "        for ingredient in record['ingredients']:\n",
    "            ingredient = INGREDIENTS.get(normalize_name(ingredient), None)\n",
    "            if ingredient is None:\n",
    "                continue\n",
    "            ingredients_ids.append(ingredient)\n",
    "                \n",
    "        if len(ingredients_ids) < 5:\n",
    "            output = CUISINES[random.randint(0, len(CUISINES)//2-1)]\n",
    "        else:\n",
    "            ingredients = [random.choices(ingredients_ids, k=5) for _ in range(votes)]\n",
    "#             print(record['id'], ingredients, ingredients_ids)\n",
    "            x = model.predict(np.array(ingredients))\n",
    "            y = np.sum(x, axis=0)\n",
    "            cuisine = np.argmax(y)\n",
    "#             print(f\"{record['id']},{CUISINES[cuisine]}\")\n",
    "            outputf.write(f\"{record['id']},{CUISINES[cuisine]}\\n\")\n"
   ]
  }
 ],
 "metadata": {
  "kernelspec": {
   "display_name": "Python 3",
   "language": "python",
   "name": "python3"
  },
  "language_info": {
   "codemirror_mode": {
    "name": "ipython",
    "version": 3
   },
   "file_extension": ".py",
   "mimetype": "text/x-python",
   "name": "python",
   "nbconvert_exporter": "python",
   "pygments_lexer": "ipython3",
   "version": "3.7.0"
  }
 },
 "nbformat": 4,
 "nbformat_minor": 2
}
